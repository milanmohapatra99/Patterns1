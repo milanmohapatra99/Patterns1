{
 "cells": [
  {
   "cell_type": "code",
   "execution_count": 1,
   "id": "498a9c9d",
   "metadata": {},
   "outputs": [
    {
     "name": "stdout",
     "output_type": "stream",
     "text": [
      "Enter the number of rows5\n",
      "* \n",
      "* * \n",
      "* * * \n",
      "* * * * \n",
      "* * * * * \n"
     ]
    }
   ],
   "source": [
    "# w.a.p to print simple pyramid pattern  \n",
    "n = int(input(\"Enter the number of rows\"))  \n",
    "for i in range(0, n):  \n",
    "    for j in range(0, i + 1):  \n",
    "        print(\"* \", end=\"\")       \n",
    "    print()  "
   ]
  },
  {
   "cell_type": "code",
   "execution_count": 2,
   "id": "2581991d",
   "metadata": {},
   "outputs": [
    {
     "name": "stdout",
     "output_type": "stream",
     "text": [
      "Enter the number of rows:6\n",
      "          * \n",
      "        * * \n",
      "      * * * \n",
      "    * * * * \n",
      "  * * * * * \n",
      "* * * * * * \n"
     ]
    }
   ],
   "source": [
    "# w.a.p to print simple reversed right angle pyramid pattern  \n",
    "rows = int(input(\"Enter the number of rows:\"))  \n",
    "k = 2 * rows - 2  \n",
    "for i in range(0, rows):  \n",
    "    for j in range(0, k):  \n",
    "        print(end=\" \")  \n",
    "    k = k - 2   \n",
    "    for j in range(0, i + 1):  \n",
    "        print(\"* \", end=\"\")  \n",
    "    print(\"\")  "
   ]
  },
  {
   "cell_type": "code",
   "execution_count": 3,
   "id": "a8114c82",
   "metadata": {},
   "outputs": [
    {
     "name": "stdout",
     "output_type": "stream",
     "text": [
      "Enter the number of rows: 6\n",
      "* * * * * *  \n",
      "* * * * *  \n",
      "* * * *  \n",
      "* * *  \n",
      "* *  \n",
      "*  \n",
      " \n"
     ]
    }
   ],
   "source": [
    "# w.a.p to print Downward half - Pyramid\n",
    "rows = int(input(\"Enter the number of rows: \"))  \n",
    "for i in range(rows + 1, 0, -1):    \n",
    "    for j in range(0, i - 1):  \n",
    "        print(\"*\", end=' ')  \n",
    "    print(\" \")  "
   ]
  },
  {
   "cell_type": "code",
   "execution_count": 4,
   "id": "cfce9e5a",
   "metadata": {},
   "outputs": [
    {
     "name": "stdout",
     "output_type": "stream",
     "text": [
      "Enter the number of rows: 5\n",
      "        *   \n",
      "       *  *   \n",
      "      *  *  *   \n",
      "     *  *  *  *   \n",
      "    *  *  *  *  *   \n"
     ]
    }
   ],
   "source": [
    "# w.a.p to print trangle pyramid\n",
    "n = int(input(\"Enter the number of rows: \"))  \n",
    "m = (2 * n) - 2  \n",
    "for i in range(0, n):  \n",
    "    for j in range(0, m):  \n",
    "        print(end=\" \")  \n",
    "    m = m - 1  # decrementing m after each loop  \n",
    "    for j in range(0, i + 1):  \n",
    "        # printing full Triangle pyramid using stars  \n",
    "        print(\"* \", end=' ')  \n",
    "    print(\" \")  "
   ]
  },
  {
   "cell_type": "code",
   "execution_count": 5,
   "id": "c6efbb55",
   "metadata": {},
   "outputs": [
    {
     "name": "stdout",
     "output_type": "stream",
     "text": [
      "Enter the number of rows: 5\n",
      "        * * * * * * \n",
      "         * * * * * \n",
      "          * * * * \n",
      "           * * * \n",
      "            * * \n",
      "             * \n"
     ]
    }
   ],
   "source": [
    "# w.a.p to print downward trangle pyramid\n",
    "rows = int(input(\"Enter the number of rows: \"))  \n",
    "k = 2 * rows - 2  \n",
    "for i in range(rows, -1, -1):  \n",
    "    for j in range(k, 0, -1):  \n",
    "        print(end=\" \")  \n",
    "    k = k + 1  \n",
    "   \n",
    "    for j in range(0, i + 1):  \n",
    "        print(\"*\", end=\" \")  \n",
    "    print(\"\")  "
   ]
  },
  {
   "cell_type": "code",
   "execution_count": 6,
   "id": "d14259f4",
   "metadata": {},
   "outputs": [
    {
     "name": "stdout",
     "output_type": "stream",
     "text": [
      "Enter the number of rows: 5\n",
      "        * \n",
      "       * * \n",
      "      * * * \n",
      "     * * * * \n",
      "    * * * * * \n",
      "   * * * * * * \n",
      "    * * * * * \n",
      "     * * * * \n",
      "      * * * \n",
      "       * * \n",
      "        * \n"
     ]
    }
   ],
   "source": [
    "# w.a.p to print Diamond shape pyramid\n",
    "rows = int(input(\"Enter the number of rows: \"))  \n",
    "  \n",
    "k = 2 * rows - 2  \n",
    " \n",
    "for i in range(0, rows):  \n",
    "   \n",
    "    for j in range(0, k):  \n",
    "        print(end=\" \")  \n",
    "    \n",
    "    k = k - 1  \n",
    "  \n",
    "    for j in range(0, i + 1):  \n",
    "        print(\"* \", end=\"\")  \n",
    "    print(\"\")  \n",
    "  \n",
    "# Downward triangle Pyramid  \n",
    "k = rows - 2  \n",
    "for i in range(rows, -1, -1):  \n",
    "    for j in range(k, 0, -1):  \n",
    "        print(end=\" \")  \n",
    "    k = k + 1  \n",
    "    \n",
    "    for j in range(0, i + 1):  \n",
    "        print(\"* \", end=\"\")  \n",
    "    print(\"\")  \n"
   ]
  },
  {
   "cell_type": "code",
   "execution_count": null,
   "id": "000439a9",
   "metadata": {},
   "outputs": [],
   "source": []
  }
 ],
 "metadata": {
  "kernelspec": {
   "display_name": "Python 3 (ipykernel)",
   "language": "python",
   "name": "python3"
  },
  "language_info": {
   "codemirror_mode": {
    "name": "ipython",
    "version": 3
   },
   "file_extension": ".py",
   "mimetype": "text/x-python",
   "name": "python",
   "nbconvert_exporter": "python",
   "pygments_lexer": "ipython3",
   "version": "3.9.7"
  }
 },
 "nbformat": 4,
 "nbformat_minor": 5
}
